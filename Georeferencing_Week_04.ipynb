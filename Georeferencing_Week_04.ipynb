{
  "nbformat": 4,
  "nbformat_minor": 0,
  "metadata": {
    "colab": {
      "provenance": [],
      "include_colab_link": true
    },
    "kernelspec": {
      "name": "python3",
      "display_name": "Python 3"
    },
    "language_info": {
      "name": "python"
    }
  },
  "cells": [
    {
      "cell_type": "markdown",
      "metadata": {
        "id": "view-in-github",
        "colab_type": "text"
      },
      "source": [
        "<a href=\"https://colab.research.google.com/github/Jennewk/GEO441-Final-Portfolio/blob/main/Georeferencing_Week_04.ipynb\" target=\"_parent\"><img src=\"https://colab.research.google.com/assets/colab-badge.svg\" alt=\"Open In Colab\"/></a>"
      ]
    },
    {
      "cell_type": "markdown",
      "source": [
        "# **Miami in Oklahoma, Past and Present**"
      ],
      "metadata": {
        "id": "C0ymCPR5aSHN"
      }
    },
    {
      "cell_type": "markdown",
      "source": [
        "🚀 Created by Kaitlyn Jennewine\n",
        "\n",
        "02/20/2025"
      ],
      "metadata": {
        "id": "Pt_OREXFPvkr"
      }
    },
    {
      "cell_type": "markdown",
      "source": [
        "## **Get ready to start**\n",
        "\n",
        "- Click **`File/Save a copy in Drive`** to save a copy of this notebook to my own Google Drive"
      ],
      "metadata": {
        "id": "CMQN_pgaHVLO"
      }
    },
    {
      "cell_type": "markdown",
      "source": [
        "## **Overview**\n",
        "\n",
        "As a student at Miami University, perhaps you are already familiar with our university's connection with the Myaamia people and their past in Ohio, Indiana, Kansas, and Oklahoma. Following a series of [Myaamia Treaty Cessions](https://myaamia-maps-miamioh.hub.arcgis.com/apps/1577260a2a6d4a239bdae81789cc4114/explore), Myaamia people were forced to leave Myaamionki, their homeland covering the states of Ohio, Indiana, Illinois, Wisconsin, and Michigan. After several decades, the majority of Myaamia people settled in **Miami, Oklahoma**, the Northeast corner in Oklahoma **around 1902**.\n",
        "\n",
        "<img src=\"https://migrations.lib.miamioh.edu/files/large/821aec1e6780421357c1a1a65d27ef2f065f5613.jpg\" alt=\"Latitude lines\" width=\"50%\">\n",
        "\n",
        "*Map of Myaamionki*"
      ],
      "metadata": {
        "id": "6tKmlbnzny_I"
      }
    },
    {
      "cell_type": "markdown",
      "source": [
        "In this assignment, we will download a historical topographic map produced by USGS covering the majority of Miami, OK and give it a new life by assigning the correct coordinate system to it. Basically, we will **georeference** this historical map to deepen our understanding of coodinate system conversion."
      ],
      "metadata": {
        "id": "-WFsEmFTvPLN"
      }
    },
    {
      "cell_type": "markdown",
      "source": [
        "## **Download A Historical Map**\n"
      ],
      "metadata": {
        "id": "WVs4J1jQbESU"
      }
    },
    {
      "cell_type": "markdown",
      "source": [
        "- We will download a historical map from [USGS topoView](https://www.usgs.gov/tools/topoview), a tool designed for searching and visualizing historical topographic maps produced by USGS\n",
        "  - Video on [how to use topoView](https://www.usgs.gov/media/videos/topoview-a-look-version-21)\n",
        "- Below is the information of the historical topo maps you need to find and download\n",
        "  - Launch [topoView](https://ngmdb.usgs.gov/topoview/viewer/#4/40.00/-100.00)\n",
        "  - Drop a map at or near Miami, OK\n",
        "\n",
        "\n",
        "<img src=\"https://drive.google.com/uc?export=view&id=13D20JNawIVuIwVUjtqIsvXlk7JJLmOoU\" alt=\"Drop Pin\" width=\"50%\">\n",
        "\n",
        "\n",
        "  - Find the earliest possible map covering Miami, OK like below\n",
        "    - Make sure the map covers the city part\n",
        "\n",
        "![img](https://drive.google.com/uc?export=view&id=1Fz_RLMLDDlQGP3-YAdeNB7lVTihN6_kR)"
      ],
      "metadata": {
        "id": "wkJqun7umRRk"
      }
    },
    {
      "cell_type": "markdown",
      "source": [
        "## **Download JEPG image**\n",
        "\n",
        "- Click JPEG to download a JPEG version of the image to be used for georeferencing"
      ],
      "metadata": {
        "id": "5bk5DtYP3f_g"
      }
    },
    {
      "cell_type": "markdown",
      "source": [
        "## **Information of the historical topo map**\n",
        "\n",
        "- Checking the information of the map from topoView or read the fine print at the bottom of the map JPEG file to answer the following questions\n",
        "\n",
        "\n",
        "| Variable      | Information  |\n",
        "| ----------------------------- | -------------------------- |\n",
        "| Projection     | Polyconic  |\n",
        "| Datum     |  NAD27   |\n",
        "| Survey Year      | 1907   |\n",
        "| Map Scale | 1:125000|\n"
      ],
      "metadata": {
        "id": "i4RTLellbUh7"
      }
    },
    {
      "cell_type": "markdown",
      "source": [
        "## **Georeference topo map**\n",
        "\n",
        "- Refer to [this video](https://youtu.be/J-to3kHo1Ug?feature=shared) and complete georeferencing for your topographic map\n",
        "- Once finished georeferencing, change your basemap to **Human Geography** in ArcGIS Pro\n",
        "- Insert a new Layout and export a map (PNG file) showing the **full extent** of your georeferenced map with map labels from the human geography basemap\n",
        "- Upload your PNG file to a Google Drive folder"
      ],
      "metadata": {
        "id": "DEi2c2X34YMT"
      }
    },
    {
      "cell_type": "markdown",
      "source": [
        "## **Show your georeferenced map**\n",
        "\n",
        "- Upload your map to Google Drive folder and share it to the public\n",
        "- Paste the original link to the map below\n",
        "\n",
        "```markdown\n",
        "https://drive.google.com/file/d/1nJ-Y1WzrGDJUu1uSYEMv8GZQ-fuvGsiu/view?usp=sharing\n",
        "```\n",
        "\n",
        "- After finishing the two steps below, a link can be created to correctly rendered in Google Colab\n",
        "  - Deleted **`/view?usp=sharing`** at the end of the link\n",
        "  - Replaced **`/file/d/`** with **`/uc?export=view&id=`**\n",
        "\n",
        "```markdown\n",
        "https://drive.google.com/uc?export=view&id=1nJ-Y1WzrGDJUu1uSYEMv8GZQ-fuvGsiu\n",
        "```\n",
        "\n",
        "- The map can be inserted in Google Colab following the syntax [from here](https://www.markdownguide.org/cheat-sheet/)\n",
        "\n",
        "```markdown\n",
        "Insert the map here using syntax:\n",
        "![georeferenced](revised link)\n",
        "```\n",
        "\n",
        "![georeferenced](https://drive.google.com/uc?export=view&id=1nJ-Y1WzrGDJUu1uSYEMv8GZQ-fuvGsiu)"
      ],
      "metadata": {
        "id": "X5t2JaIH4uls"
      }
    },
    {
      "cell_type": "markdown",
      "source": [
        "## **Save and share this notebook**\n",
        "\n",
        "- Make this notebook viewable by anyone with the link and submit the link to Canvas as Week 3 assignment"
      ],
      "metadata": {
        "id": "kkgukjDcXsqC"
      }
    },
    {
      "cell_type": "markdown",
      "source": [
        "## **Reference**\n",
        "\n",
        "- [Markdown cheat sheet](https://www.markdownguide.org/cheat-sheet/)\n",
        "- [Insert other references]"
      ],
      "metadata": {
        "id": "fvMbEX89YLeY"
      }
    }
  ]
}