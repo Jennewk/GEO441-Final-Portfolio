{
  "nbformat": 4,
  "nbformat_minor": 0,
  "metadata": {
    "colab": {
      "provenance": [],
      "include_colab_link": true
    },
    "kernelspec": {
      "name": "python3",
      "display_name": "Python 3"
    },
    "language_info": {
      "name": "python"
    }
  },
  "cells": [
    {
      "cell_type": "markdown",
      "metadata": {
        "id": "view-in-github",
        "colab_type": "text"
      },
      "source": [
        "<a href=\"https://colab.research.google.com/github/Jennewk/GEO441-Final-Portfolio/blob/main/Intro_To_ArcGIS_Map_Layouts.ipynb\" target=\"_parent\"><img src=\"https://colab.research.google.com/assets/colab-badge.svg\" alt=\"Open In Colab\"/></a>"
      ]
    },
    {
      "cell_type": "markdown",
      "source": [
        "## **GEO 441B/541B Week 1 Assignment: Introduction to ArcGIS Pro GUI**"
      ],
      "metadata": {
        "id": "C0ymCPR5aSHN"
      }
    },
    {
      "cell_type": "markdown",
      "source": [
        "🚀 Created by Kaitlyn Jennewine\n",
        "\n",
        "02/03/2025"
      ],
      "metadata": {
        "id": "Pt_OREXFPvkr"
      }
    },
    {
      "cell_type": "markdown",
      "source": [
        "### **Get ready to start**\n",
        "\n",
        "- Click **`File/Save a copy in Drive`** to save a copy of this notebook to my own Google Drive"
      ],
      "metadata": {
        "id": "CMQN_pgaHVLO"
      }
    },
    {
      "cell_type": "markdown",
      "source": [
        "### **Map #1: Hugo Roads and Lakes**\n",
        "\n",
        "1. **Instructions**\n",
        "   - Follow mapping instructions from [this Canvas file](https://miamioh.instructure.com/courses/227178/files/34576429?wrap=1)\n",
        "   - Mapping instructions are adapted from *Lab 1: Introduction to ArcGIS Pro* in [GIS Fundamentals Resources page](https://www.gisfundamentals.org/resources)\n",
        "\n",
        "2. **Share map**\n",
        "   - Check if you have your first map (*Hugo Roads and Lakes*) generated following the direction in a Google Drive folder\n",
        "   - Make sure the PNG file is accessible to anyone with a link\n",
        "   - Copy the shareable link\n",
        "\n"
      ],
      "metadata": {
        "id": "WVs4J1jQbESU"
      }
    },
    {
      "cell_type": "markdown",
      "source": [
        "3. **Obtain a shareable link**\n",
        "\n",
        "  - Double-click the text cell below and paste the shareable link"
      ],
      "metadata": {
        "id": "VHcvLI9QGhSO"
      }
    },
    {
      "cell_type": "markdown",
      "source": [
        "[Hugo Roads and Lakes](https://drive.google.com/file/d/17TR2bY_TQfH9CQEvJio3E5lcXSBe-sQb/view?usp=drive_link)"
      ],
      "metadata": {
        "id": "YVt0IZN2H5uJ"
      }
    },
    {
      "cell_type": "markdown",
      "source": [
        "  4. **Edit link for picture rendering**\n",
        "    - Copy the shareable link and paste to the empty text cell below\n",
        "    - Delete **`/view?usp=sharing`** at the end of the link\n",
        "    - Replace **`/file/d/`** with **`/uc?export=view&id=`**\n"
      ],
      "metadata": {
        "id": "nLQikAfeIAgS"
      }
    },
    {
      "cell_type": "markdown",
      "source": [
        "https://drive.google.com/uc?export=view&id=17TR2bY_TQfH9CQEvJio3E5lcXSBe-sQb"
      ],
      "metadata": {
        "id": "3s-P_LBdIp01"
      }
    },
    {
      "cell_type": "markdown",
      "source": [
        "5. **Insert Map**\n",
        "  - Copy `![map](link)` and paste to the text cell below\n",
        "  - Replace `link` with the link you get after Step 4\n",
        "  - After this step, you should see your map correctly displayed below"
      ],
      "metadata": {
        "id": "KsUeRZjmGxPl"
      }
    },
    {
      "cell_type": "markdown",
      "source": [
        "![map](https://www.google.com/url?q=https%3A%2F%2Fdrive.google.com%2Fuc%3Fexport%3Dview%26id%3D17TR2bY_TQfH9CQEvJio3E5lcXSBe-sQb)"
      ],
      "metadata": {
        "id": "W3o3erUKHCnA"
      }
    },
    {
      "cell_type": "markdown",
      "source": [
        "### **Map #2: Cloquet Forestry Center**\n",
        "\n",
        "1. **Instructions**\n",
        "   - Follow mapping instructions from [this Canvas file](https://miamioh.instructure.com/courses/227178/files/34576429?wrap=1)\n",
        "   - Mapping instructions are adapted from *Lab 1: Introduction to ArcGIS Pro* in [GIS Fundamentals Resources page](https://www.gisfundamentals.org/resources)\n",
        "\n",
        "2. **Share map**\n",
        "   - Check if you have your second map (*Cloquet Forestry Center*) generated following the direction in a Google Drive folder\n",
        "   - Make sure the PNG file is accessible to anyone with a link\n",
        "   - Copy the shareable link\n",
        "\n"
      ],
      "metadata": {
        "id": "ELaaF_lUQLBp"
      }
    },
    {
      "cell_type": "markdown",
      "source": [
        "3. **Obtain a shareable link**\n",
        "\n",
        "  - Double-click the text cell below and paste the shareable link"
      ],
      "metadata": {
        "id": "GQAprjsWQXUW"
      }
    },
    {
      "cell_type": "markdown",
      "source": [
        "https://drive.google.com/file/d/1aaWRrF6tmtB4kb5qkOYVRilL_BIrE1oo/view?usp=sharing"
      ],
      "metadata": {
        "id": "gtn5cx2PQZav"
      }
    },
    {
      "cell_type": "markdown",
      "source": [
        "  4. **Edit link for picture rendering**\n",
        "    - Copy the shareable link and paste to the empty text cell below\n",
        "    - Delete **`/view?usp=sharing`** at the end of the link\n",
        "    - Replace **`/file/d/`** with **`/uc?export=view&id=`**\n"
      ],
      "metadata": {
        "id": "MogYL7zdQd7A"
      }
    },
    {
      "cell_type": "markdown",
      "source": [
        "https://drive.google.com/uc?export=view&id=1aaWRrF6tmtB4kb5qkOYVRilL_BIrE1oo"
      ],
      "metadata": {
        "id": "b8F38D4aQgc0"
      }
    },
    {
      "cell_type": "markdown",
      "source": [
        "5. **Insert Map**\n",
        "  - Copy `![map](link)` and paste to the text cell below\n",
        "  - Replace `link` with the link you get after Step 4\n",
        "  - After this step, you should see your map correctly displayed below"
      ],
      "metadata": {
        "id": "E33bTZ30QoVO"
      }
    },
    {
      "cell_type": "markdown",
      "source": [
        "![map](https://www.google.com/url?q=https%3A%2F%2Fdrive.google.com%2Fuc%3Fexport%3Dview%26id%3D1aaWRrF6tmtB4kb5qkOYVRilL_BIrE1oo)"
      ],
      "metadata": {
        "id": "ib9ho-5YQqO3"
      }
    },
    {
      "cell_type": "markdown",
      "source": [
        "### **Map #3: Cloquet Vegetation Polygons**\n",
        "\n",
        "1. **Instructions**\n",
        "   - Follow mapping instructions from [this Canvas file](https://miamioh.instructure.com/courses/227178/files/34576429?wrap=1)\n",
        "   - Mapping instructions are adapted from *Lab 1: Introduction to ArcGIS Pro* in [GIS Fundamentals Resources page](https://www.gisfundamentals.org/resources)\n",
        "\n",
        "2. **Share map**\n",
        "   - Check if you have your third map (*Cloquet Vegetation Polygons*) generated following the direction in a Google Drive folder\n",
        "   - Make sure the PNG file is accessible to anyone with a link\n",
        "   - Copy the shareable link\n",
        "\n"
      ],
      "metadata": {
        "id": "ngOe9Si4Q6ac"
      }
    },
    {
      "cell_type": "markdown",
      "source": [
        "3. **Obtain a shareable link**\n",
        "\n",
        "  - Double-click the text cell below and paste the shareable link"
      ],
      "metadata": {
        "id": "fblAomuDRHwA"
      }
    },
    {
      "cell_type": "markdown",
      "source": [
        "https://drive.google.com/file/d/1cbqS3aQaxwRwsZp4RiXh3YIrMqHWnljA/view?usp=sharing"
      ],
      "metadata": {
        "id": "R1DcfpHfRKDf"
      }
    },
    {
      "cell_type": "markdown",
      "source": [
        "  4. **Edit link for picture rendering**\n",
        "    - Copy the shareable link and paste to the empty text cell below\n",
        "    - Delete **`/view?usp=sharing`** at the end of the link\n",
        "    - Replace **`/file/d/`** with **`/uc?export=view&id=`**\n"
      ],
      "metadata": {
        "id": "plDVZdi-RMFU"
      }
    },
    {
      "cell_type": "markdown",
      "source": [
        "https://drive.google.com/uc?export=view&id=1cbqS3aQaxwRwsZp4RiXh3YIrMqHWnljA"
      ],
      "metadata": {
        "id": "IwsXXUyfRN7u"
      }
    },
    {
      "cell_type": "markdown",
      "source": [
        "5. **Insert Map**\n",
        "  - Copy `![map](link)` and paste to the text cell below\n",
        "  - Replace `link` with the link you get after Step 4\n",
        "  - After this step, you should see your map correctly displayed below"
      ],
      "metadata": {
        "id": "om3DrlJlRQrL"
      }
    },
    {
      "cell_type": "markdown",
      "source": [
        "![map](https://www.google.com/url?q=https%3A%2F%2Fdrive.google.com%2Fuc%3Fexport%3Dview%26id%3D1cbqS3aQaxwRwsZp4RiXh3YIrMqHWnljA)"
      ],
      "metadata": {
        "id": "IfA0YwENRTzx"
      }
    },
    {
      "cell_type": "markdown",
      "source": [
        "### **Reflection on my first experience with ArcGIS Pro**\n",
        "\n",
        "- Overall, I spent 4 hours to finish creating all three maps"
      ],
      "metadata": {
        "id": "i4RTLellbUh7"
      }
    },
    {
      "cell_type": "markdown",
      "source": [
        "- Here is a table showing things that I feel excited and challenging in my first experience working in ArcGIS Pro\n",
        "\n",
        "| Things I'm excited about      | Things challenging for me  |\n",
        "| ----------------------------- | -------------------------- |\n",
        "| I was able to do it all on my own     | Starting this at first  |\n",
        "| Using this techonology correctly     | Finding all of the settings    |\n",
        "| Showing my progress      | Inserting and unzipping the data   |\n"
      ],
      "metadata": {
        "id": "jtGbIA1lJZNo"
      }
    },
    {
      "cell_type": "markdown",
      "source": [
        "- Here is how I rate my first experience working in ArcGIS Pro\n",
        "  - Data important and management\n",
        "    - 7/10, it took me a little to figure it out but once I did it was easy!\n",
        "  - Map creation and annotation\n",
        "    - 9/10, it was a little tricky but I figured it out quick!\n",
        "  - Navigate the software using its GUI\n",
        "    - 9/10, it is a little confusing but I think I will get the hang of it!"
      ],
      "metadata": {
        "id": "Er2HlBbHJVvB"
      }
    },
    {
      "cell_type": "markdown",
      "source": [
        "### **Save and share this notebook**\n",
        "\n",
        "- Make this notebook viewable by anyone with the link\n",
        "\n",
        "![Share Notebook](https://drive.google.com/uc?export=view&id=1K4a3saeAXrzKcB4fkivkjUmLLWJ1R7oS)\n",
        "\n",
        "- Copy this link as your submission to Assignment Week 1"
      ],
      "metadata": {
        "id": "kkgukjDcXsqC"
      }
    },
    {
      "cell_type": "markdown",
      "source": [
        "### **Reference**\n",
        "\n",
        "- [Markdown cheat sheet](https://www.markdownguide.org/cheat-sheet/)\n",
        "- [Insert other references if any]"
      ],
      "metadata": {
        "id": "fvMbEX89YLeY"
      }
    }
  ]
}